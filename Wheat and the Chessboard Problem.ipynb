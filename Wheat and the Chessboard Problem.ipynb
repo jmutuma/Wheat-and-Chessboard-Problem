{
 "cells": [
  {
   "cell_type": "markdown",
   "id": "9dd1adf9",
   "metadata": {},
   "source": [
    "# Question 1:\n"
   ]
  },
  {
   "cell_type": "code",
   "execution_count": 2,
   "id": "79dce5ce",
   "metadata": {},
   "outputs": [
    {
     "name": "stdout",
     "output_type": "stream",
     "text": [
      "[[1. 2.]\n",
      " [4. 8.]]\n"
     ]
    }
   ],
   "source": [
    "import numpy as np\n",
    "n_squares = np.array(range(1,5))# 2X2 chessboard as an ndarray\n",
    "no_of_grains_array = np.array([]) #  creating an empty array to add no. of grains in each square\n",
    "for x in n_squares:\n",
    "    n_grains =(pow(2,(x-1)))# doubling the number of wheat grains in each square\n",
    "    no_of_grains_array=np.append(no_of_grains_array,n_grains) # creating ndarray of grains in the chessboard.\n",
    "small_board_array = no_of_grains_array.reshape(2,2) # array representing the chess board\n",
    "print(small_board_array)\n"
   ]
  },
  {
   "cell_type": "code",
   "execution_count": 40,
   "id": "78df44d6",
   "metadata": {},
   "outputs": [
    {
     "name": "stdout",
     "output_type": "stream",
     "text": [
      "[[1. 4.]\n",
      " [2. 8.]]\n"
     ]
    }
   ],
   "source": [
    "# Transform the shape pf the ndarray, we use the transpose T.\n",
    "small_board_array_transformed = small_board_array.T\n",
    "print(small_board_array_transformed)"
   ]
  },
  {
   "cell_type": "markdown",
   "id": "dba3a069",
   "metadata": {},
   "source": [
    "# Problem 2:\n",
    "Extension to n X m squares\n",
    "def array_of_grains_in_each_square(n , m) - function takes n - no of rows and m -no of columns in the chessboard and returns the no. of wheat on each square.\n"
   ]
  },
  {
   "cell_type": "code",
   "execution_count": 158,
   "id": "597a50e6",
   "metadata": {},
   "outputs": [
    {
     "name": "stdout",
     "output_type": "stream",
     "text": [
      "The number of grains in a 8 x 8 chessboard is:\n",
      " [[1.000000000000000e+00 2.000000000000000e+00 4.000000000000000e+00\n",
      "  8.000000000000000e+00 1.600000000000000e+01 3.200000000000000e+01\n",
      "  6.400000000000000e+01 1.280000000000000e+02]\n",
      " [2.560000000000000e+02 5.120000000000000e+02 1.024000000000000e+03\n",
      "  2.048000000000000e+03 4.096000000000000e+03 8.192000000000000e+03\n",
      "  1.638400000000000e+04 3.276800000000000e+04]\n",
      " [6.553600000000000e+04 1.310720000000000e+05 2.621440000000000e+05\n",
      "  5.242880000000000e+05 1.048576000000000e+06 2.097152000000000e+06\n",
      "  4.194304000000000e+06 8.388608000000000e+06]\n",
      " [1.677721600000000e+07 3.355443200000000e+07 6.710886400000000e+07\n",
      "  1.342177280000000e+08 2.684354560000000e+08 5.368709120000000e+08\n",
      "  1.073741824000000e+09 2.147483648000000e+09]\n",
      " [4.294967296000000e+09 8.589934592000000e+09 1.717986918400000e+10\n",
      "  3.435973836800000e+10 6.871947673600000e+10 1.374389534720000e+11\n",
      "  2.748779069440000e+11 5.497558138880000e+11]\n",
      " [1.099511627776000e+12 2.199023255552000e+12 4.398046511104000e+12\n",
      "  8.796093022208000e+12 1.759218604441600e+13 3.518437208883200e+13\n",
      "  7.036874417766400e+13 1.407374883553280e+14]\n",
      " [2.814749767106560e+14 5.629499534213120e+14 1.125899906842624e+15\n",
      "  2.251799813685248e+15 4.503599627370496e+15 9.007199254740992e+15\n",
      "  1.801439850948198e+16 3.602879701896397e+16]\n",
      " [7.205759403792794e+16 1.441151880758559e+17 2.882303761517117e+17\n",
      "  5.764607523034235e+17 1.152921504606847e+18 2.305843009213694e+18\n",
      "  4.611686018427388e+18 9.223372036854776e+18]]\n"
     ]
    }
   ],
   "source": [
    "def array_of_grains_in_each_square(n , m):\n",
    "    n_squares = (n*m)\n",
    "    no_of_grains_list = [1]\n",
    "    for _ in range(n_squares - 1):\n",
    "        no_of_grains_list.append(2*no_of_grains_list[-1])\n",
    "    chessboard_array = np.array(no_of_grains_list).reshape(n,m)\n",
    "    print('The number of grains in a',n,'x',m,'chessboard is:\\n {}'.format(chessboard_array))\n",
    "      \n",
    "array_of_grains_in_each_square(8 , 8)  \n"
   ]
  },
  {
   "cell_type": "markdown",
   "id": "a256a6e0",
   "metadata": {},
   "source": [
    "# Question 3:\n",
    "Total Number of Wheat:\n",
    "1. Find total number of wheat on a 8X8 chess board.\n",
    "2. Find the average of each column and visualize it in a bar chart\n"
   ]
  },
  {
   "cell_type": "code",
   "execution_count": 114,
   "id": "f5c95c63",
   "metadata": {},
   "outputs": [
    {
     "name": "stdout",
     "output_type": "stream",
     "text": [
      "1.8446744073709552e+19\n"
     ]
    }
   ],
   "source": [
    "# find total number of wheat. Using function created in problem 2 \n",
    "def array_of_grains_in_each_square(n , m):\n",
    "    n_squares = (n*m)\n",
    "    no_of_grains_list = [1]\n",
    "    for _ in range(n_squares - 1):\n",
    "        no_of_grains_list.append(2*no_of_grains_list[-1])\n",
    "    chessboard_array = np.array(no_of_grains_list).reshape(n,m)\n",
    "    sum_columnwise = (np.sum(chessboard_array , axis = 0))# sum of each column\n",
    "    total_sum = (np.sum(sum_columnwise)) # total sum of all columns\n",
    "    print(total_sum)\n",
    "      \n",
    "array_of_grains_in_each_square(8, 8)   "
   ]
  },
  {
   "cell_type": "markdown",
   "id": "1ebe9cd0",
   "metadata": {},
   "source": [
    "Total number of wheat grains on 8X8 chessboard is 1.8446744073709552e+19."
   ]
  },
  {
   "cell_type": "code",
   "execution_count": 118,
   "id": "9c215925",
   "metadata": {},
   "outputs": [
    {
     "name": "stdout",
     "output_type": "stream",
     "text": [
      "[9.042521604759584e+15 1.808504320951917e+16 3.617008641903834e+16\n",
      " 7.234017283807667e+16 1.446803456761533e+17 2.893606913523067e+17\n",
      " 5.787213827046134e+17 1.157442765409227e+18]\n"
     ]
    }
   ],
   "source": [
    "#find the average of each column, we use mean() function and set axis=0\n",
    "# find the average of wheat grains in each column. Using function created in problem 2 \n",
    "def array_of_grains_in_each_square(n , m):\n",
    "    n_squares = (n*m)\n",
    "    no_of_grains_list = [1]\n",
    "    for _ in range(n_squares - 1):\n",
    "        no_of_grains_list.append(2*no_of_grains_list[-1])\n",
    "    chessboard_array = np.array(no_of_grains_list).reshape(n,m)\n",
    "    avg_columnwise = (np.mean(chessboard_array , axis = 0))# mean of each column\n",
    "    print(avg_columnwise)\n",
    "      \n",
    "array_of_grains_in_each_square(8, 8)   "
   ]
  },
  {
   "cell_type": "markdown",
   "id": "464148a3",
   "metadata": {},
   "source": [
    "#DATA VISUALIZATION:Using the function created in problem 2, we will plot a bar chart.\n",
    "1. X-axis = no. of columns\n",
    "2. Y-axis = average of wheat grains per column(avg_columnwise)"
   ]
  },
  {
   "cell_type": "code",
   "execution_count": 122,
   "id": "bc06df1c",
   "metadata": {},
   "outputs": [
    {
     "data": {
      "image/png": "[encoded data removed]",
      "text/plain": [
       "<Figure size 640x480 with 1 Axes>"
      ]
     },
     "metadata": {},
     "output_type": "display_data"
    }
   ],
   "source": [
    "def array_of_grains_in_each_square(n , m):\n",
    "    n_squares = (n*m) # total number of squares\n",
    "    no_of_grains_list = [1] # list of no of grains in each square\n",
    "    for _ in range(n_squares - 1):\n",
    "        no_of_grains_list.append(2*no_of_grains_list[-1])# append no. of grains\n",
    "    chessboard_array = np.array(no_of_grains_list).reshape(n,m)# create an array from the list\n",
    "    avg_columnwise = (np.mean(chessboard_array , axis = 0))# mean of each column\n",
    "    import matplotlib.pyplot as plt # draw a bar chart \n",
    "    %matplotlib inline\n",
    "    fig, ax = plt.subplots()\n",
    "    plt.title('Average wheat grains in 8X8 chessboard in each column')\n",
    "    plt.xlabel('Number of columns')\n",
    "    plt.ylabel('Average wheat grains per column')\n",
    "    plt.bar(np.arange(1,9), avg_columnwise) # no of columns- x-axis, avg_columnwise- y-axis\n",
    "    plt.show()\n",
    "      \n",
    "array_of_grains_in_each_square(8, 8)   "
   ]
  },
  {
   "cell_type": "markdown",
   "id": "c3474515",
   "metadata": {},
   "source": [
    "# Question 4:\n",
    "Visualize the number of wheat on a 8X8 square chessboard as a heatmap"
   ]
  },
  {
   "cell_type": "code",
   "execution_count": 124,
   "id": "3b3aa88f",
   "metadata": {},
   "outputs": [
    {
     "data": {
      "image/png": "[encoded data removed]",
      "text/plain": [
       "<Figure size 640x480 with 1 Axes>"
      ]
     },
     "metadata": {},
     "output_type": "display_data"
    }
   ],
   "source": [
    "#Heatmap of number of wheat on a 8X8 chessboard\n",
    "def array_of_grains_in_each_square(n , m):\n",
    "    n_squares = (n*m) # total number of squares\n",
    "    no_of_grains_list = [1] # list of no of grains in each square\n",
    "    for _ in range(n_squares - 1):\n",
    "        no_of_grains_list.append(2*no_of_grains_list[-1])# append no. of grains\n",
    "    chessboard_array = np.array(no_of_grains_list).reshape(n,m)# create an array from the list\n",
    "    avg_columnwise = (np.mean(chessboard_array , axis = 0))# mean of each column\n",
    "    import matplotlib.pyplot as plt\n",
    "    %matplotlib inline\n",
    "    fig, ax = plt.subplots()\n",
    "    plt.title('Heatmap')\n",
    "    plt.xlabel('Row')\n",
    "    plt.ylabel('Column')\n",
    "    plt.pcolor(chessboard_array)\n",
    "    plt.show()\n",
    "      \n",
    "array_of_grains_in_each_square(8, 8) "
   ]
  },
  {
   "cell_type": "markdown",
   "id": "00ba83c7",
   "metadata": {},
   "source": [
    "# Question 5:\n",
    "Find how many first halfs make up the second half.\n",
    "1. Find the total of first half\n",
    "2. Find the total of second half\n",
    "3. Divide second half by first half"
   ]
  },
  {
   "cell_type": "code",
   "execution_count": 141,
   "id": "1353be44",
   "metadata": {},
   "outputs": [
    {
     "name": "stdout",
     "output_type": "stream",
     "text": [
      "The total sum of first half: 4294967295.0\n",
      "The total sum of second half: 1.8446744069414584e+19\n",
      "No of times second half is first half: 4294967296.0\n"
     ]
    }
   ],
   "source": [
    "def array_of_grains_in_each_square(n , m):\n",
    "    n_squares = (n*m)\n",
    "    no_of_grains_list = [1]\n",
    "    for _ in range(n_squares - 1):\n",
    "        no_of_grains_list.append(2*no_of_grains_list[-1])\n",
    "    chessboard_array = np.array(no_of_grains_list).reshape(n,m)\n",
    "    first_half_column_sum = sum(chessboard_array[:4,:])#sum of first half columns\n",
    "    total_first_half_sum = sum(first_half_column_sum)# total sum of first half rows and columns\n",
    "    second_half_column_sum = sum(chessboard_array[4:,:])#sum of second half columns\n",
    "    total_second_half_sum = sum(second_half_column_sum)#total sumof second half\n",
    "    times_second_is_first = total_second_half_sum / total_first_half_sum #no of times second half is first half \n",
    "    print('The total sum of first half: {}'.format(total_first_half_sum))\n",
    "    print('The total sum of second half: {}'.format(total_second_half_sum))\n",
    "    print('No of times second half is first half: {}'.format(times_second_is_first))\n",
    "      \n",
    "array_of_grains_in_each_square(8, 8)   \n"
   ]
  },
  {
   "cell_type": "markdown",
   "id": "7ba4c554",
   "metadata": {},
   "source": [
    "# Problem 6:\n",
    "Extension to n X m squares by other calculation methods:\n"
   ]
  },
  {
   "cell_type": "code",
   "execution_count": 153,
   "id": "576a5b17",
   "metadata": {},
   "outputs": [
    {
     "name": "stdout",
     "output_type": "stream",
     "text": [
      "The number of grains in a 8 x 8 chessboard is:\n",
      " [[1.000000000000000e+00 2.000000000000000e+00 4.000000000000000e+00\n",
      "  8.000000000000000e+00 1.600000000000000e+01 3.200000000000000e+01\n",
      "  6.400000000000000e+01 1.280000000000000e+02]\n",
      " [2.560000000000000e+02 5.120000000000000e+02 1.024000000000000e+03\n",
      "  2.048000000000000e+03 4.096000000000000e+03 8.192000000000000e+03\n",
      "  1.638400000000000e+04 3.276800000000000e+04]\n",
      " [6.553600000000000e+04 1.310720000000000e+05 2.621440000000000e+05\n",
      "  5.242880000000000e+05 1.048576000000000e+06 2.097152000000000e+06\n",
      "  4.194304000000000e+06 8.388608000000000e+06]\n",
      " [1.677721600000000e+07 3.355443200000000e+07 6.710886400000000e+07\n",
      "  1.342177280000000e+08 2.684354560000000e+08 5.368709120000000e+08\n",
      "  1.073741824000000e+09 2.147483648000000e+09]\n",
      " [4.294967296000000e+09 8.589934592000000e+09 1.717986918400000e+10\n",
      "  3.435973836800000e+10 6.871947673600000e+10 1.374389534720000e+11\n",
      "  2.748779069440000e+11 5.497558138880000e+11]\n",
      " [1.099511627776000e+12 2.199023255552000e+12 4.398046511104000e+12\n",
      "  8.796093022208000e+12 1.759218604441600e+13 3.518437208883200e+13\n",
      "  7.036874417766400e+13 1.407374883553280e+14]\n",
      " [2.814749767106560e+14 5.629499534213120e+14 1.125899906842624e+15\n",
      "  2.251799813685248e+15 4.503599627370496e+15 9.007199254740992e+15\n",
      "  1.801439850948198e+16 3.602879701896397e+16]\n",
      " [7.205759403792794e+16 1.441151880758559e+17 2.882303761517117e+17\n",
      "  5.764607523034235e+17 1.152921504606847e+18 2.305843009213694e+18\n",
      "  4.611686018427388e+18 9.223372036854776e+18]]\n"
     ]
    }
   ],
   "source": [
    "# using np.append method\n",
    "def array_of_grains_in_each_square(n , m):\n",
    "    n_squares = (n*m)\n",
    "    chessboard_ndarray = np.array([1]).astype(np.uint64)\n",
    "    for _ in range(n_squares - 1):\n",
    "        chessboard_ndarray = np.append(chessboard_ndarray, 2*chessboard_ndarray[-1])\n",
    "    print('The number of grains in a',n,'x',m,'chessboard is:\\n {}'.format(chessboard_ndarray.reshape(n,m)))\n",
    "array_of_grains_in_each_square(8, 8)\n",
    "    \n",
    "        "
   ]
  },
  {
   "cell_type": "code",
   "execution_count": 152,
   "id": "2054a68e",
   "metadata": {},
   "outputs": [
    {
     "name": "stdout",
     "output_type": "stream",
     "text": [
      "The number of grains in a 8 x 8 chessboard is:\n",
      " [[                  1                   2                   4\n",
      "                    8                  16                  32\n",
      "                   64                 128]\n",
      " [                256                 512                1024\n",
      "                 2048                4096                8192\n",
      "                16384               32768]\n",
      " [              65536              131072              262144\n",
      "               524288             1048576             2097152\n",
      "              4194304             8388608]\n",
      " [           16777216            33554432            67108864\n",
      "            134217728           268435456           536870912\n",
      "           1073741824          2147483648]\n",
      " [         4294967296          8589934592         17179869184\n",
      "          34359738368         68719476736        137438953472\n",
      "         274877906944        549755813888]\n",
      " [      1099511627776       2199023255552       4398046511104\n",
      "        8796093022208      17592186044416      35184372088832\n",
      "       70368744177664     140737488355328]\n",
      " [    281474976710656     562949953421312    1125899906842624\n",
      "     2251799813685248    4503599627370496    9007199254740992\n",
      "    18014398509481984   36028797018963968]\n",
      " [  72057594037927936  144115188075855872  288230376151711744\n",
      "   576460752303423488 1152921504606846976 2305843009213693952\n",
      "  4611686018427387904 9223372036854775808]]\n"
     ]
    }
   ],
   "source": [
    "#function that returns ndarray using broadcasting method\n",
    "def array_of_grains_in_each_square(n , m):\n",
    "    n_squares = (n*m)\n",
    "    indices_of_squares = np.arange(n_squares).astype(np.uint64)\n",
    "    chessboard_ndarray = 2**indices_of_squares\n",
    "    print('The number of grains in a',n,'x',m,'chessboard is:\\n {}'.format(chessboard_ndarray.reshape(n,m)))\n",
    "array_of_grains_in_each_square(8, 8)"
   ]
  },
  {
   "cell_type": "markdown",
   "id": "bfe3fb45",
   "metadata": {},
   "source": [
    "# Question 7:\n",
    "Comparison of calculation time, from 3 different methods used to calculate wheat on a 8 x 8 chessboard.\n",
    "We will use jupyter notebook built in. %%timeit"
   ]
  },
  {
   "cell_type": "code",
   "execution_count": 6,
   "id": "1a75d13e",
   "metadata": {},
   "outputs": [
    {
     "name": "stdout",
     "output_type": "stream",
     "text": [
      "The number of grains in a 8 x 8 chessboard is:\n",
      " [[1.00000000e+00 2.00000000e+00 4.00000000e+00 8.00000000e+00\n",
      "  1.60000000e+01 3.20000000e+01 6.40000000e+01 1.28000000e+02]\n",
      " [2.56000000e+02 5.12000000e+02 1.02400000e+03 2.04800000e+03\n",
      "  4.09600000e+03 8.19200000e+03 1.63840000e+04 3.27680000e+04]\n",
      " [6.55360000e+04 1.31072000e+05 2.62144000e+05 5.24288000e+05\n",
      "  1.04857600e+06 2.09715200e+06 4.19430400e+06 8.38860800e+06]\n",
      " [1.67772160e+07 3.35544320e+07 6.71088640e+07 1.34217728e+08\n",
      "  2.68435456e+08 5.36870912e+08 1.07374182e+09 2.14748365e+09]\n",
      " [4.29496730e+09 8.58993459e+09 1.71798692e+10 3.43597384e+10\n",
      "  6.87194767e+10 1.37438953e+11 2.74877907e+11 5.49755814e+11]\n",
      " [1.09951163e+12 2.19902326e+12 4.39804651e+12 8.79609302e+12\n",
      "  1.75921860e+13 3.51843721e+13 7.03687442e+13 1.40737488e+14]\n",
      " [2.81474977e+14 5.62949953e+14 1.12589991e+15 2.25179981e+15\n",
      "  4.50359963e+15 9.00719925e+15 1.80143985e+16 3.60287970e+16]\n",
      " [7.20575940e+16 1.44115188e+17 2.88230376e+17 5.76460752e+17\n",
      "  1.15292150e+18 2.30584301e+18 4.61168602e+18 9.22337204e+18]]\n"
     ]
    }
   ],
   "source": [
    "#%%timeit\n",
    "# using function in problem 2 that used both list and nd array\n",
    "def array_of_grains_in_each_square(n , m):\n",
    "    n_squares = (n*m)\n",
    "    no_of_grains_list = [1]\n",
    "    for _ in range(n_squares - 1):\n",
    "        no_of_grains_list.append(2*no_of_grains_list[-1])\n",
    "    chessboard_array = np.array(no_of_grains_list).reshape(n,m)\n",
    "    print('The number of grains in a',n,'x',m,'chessboard is:\\n {}'.format(chessboard_array))\n",
    "      \n",
    "array_of_grains_in_each_square(8 , 8)  \n"
   ]
  },
  {
   "cell_type": "markdown",
   "id": "021fa09a",
   "metadata": {},
   "source": [
    "The function that uses both list and nd array used 652 microseconds"
   ]
  },
  {
   "cell_type": "code",
   "execution_count": 8,
   "id": "0f726334",
   "metadata": {},
   "outputs": [
    {
     "name": "stdout",
     "output_type": "stream",
     "text": [
      "The number of grains in a 8 x 8 chessboard is:\n",
      " [[1.00000000e+00 2.00000000e+00 4.00000000e+00 8.00000000e+00\n",
      "  1.60000000e+01 3.20000000e+01 6.40000000e+01 1.28000000e+02]\n",
      " [2.56000000e+02 5.12000000e+02 1.02400000e+03 2.04800000e+03\n",
      "  4.09600000e+03 8.19200000e+03 1.63840000e+04 3.27680000e+04]\n",
      " [6.55360000e+04 1.31072000e+05 2.62144000e+05 5.24288000e+05\n",
      "  1.04857600e+06 2.09715200e+06 4.19430400e+06 8.38860800e+06]\n",
      " [1.67772160e+07 3.35544320e+07 6.71088640e+07 1.34217728e+08\n",
      "  2.68435456e+08 5.36870912e+08 1.07374182e+09 2.14748365e+09]\n",
      " [4.29496730e+09 8.58993459e+09 1.71798692e+10 3.43597384e+10\n",
      "  6.87194767e+10 1.37438953e+11 2.74877907e+11 5.49755814e+11]\n",
      " [1.09951163e+12 2.19902326e+12 4.39804651e+12 8.79609302e+12\n",
      "  1.75921860e+13 3.51843721e+13 7.03687442e+13 1.40737488e+14]\n",
      " [2.81474977e+14 5.62949953e+14 1.12589991e+15 2.25179981e+15\n",
      "  4.50359963e+15 9.00719925e+15 1.80143985e+16 3.60287970e+16]\n",
      " [7.20575940e+16 1.44115188e+17 2.88230376e+17 5.76460752e+17\n",
      "  1.15292150e+18 2.30584301e+18 4.61168602e+18 9.22337204e+18]]\n"
     ]
    }
   ],
   "source": [
    "#%%timeit\n",
    "#timing the function that utilises np.append method\n",
    "def array_of_grains_in_each_square(n , m):\n",
    "    n_squares = (n*m)\n",
    "    chessboard_ndarray = np.array([1]).astype(np.uint64)\n",
    "    for _ in range(n_squares - 1):\n",
    "        chessboard_ndarray = np.append(chessboard_ndarray, 2*chessboard_ndarray[-1])\n",
    "    print('The number of grains in a',n,'x',m,'chessboard is:\\n {}'.format(chessboard_ndarray.reshape(n,m)))\n",
    "array_of_grains_in_each_square(8, 8)\n"
   ]
  },
  {
   "cell_type": "markdown",
   "id": "d8966c2a",
   "metadata": {},
   "source": [
    "The function that uses np.append method used 1.06 milli seconds"
   ]
  },
  {
   "cell_type": "code",
   "execution_count": 9,
   "id": "9ef1ec35",
   "metadata": {},
   "outputs": [
    {
     "name": "stdout",
     "output_type": "stream",
     "text": [
      "The number of grains in a 8 x 8 chessboard is:\n",
      " [[                  1                   2                   4\n",
      "                    8                  16                  32\n",
      "                   64                 128]\n",
      " [                256                 512                1024\n",
      "                 2048                4096                8192\n",
      "                16384               32768]\n",
      " [              65536              131072              262144\n",
      "               524288             1048576             2097152\n",
      "              4194304             8388608]\n",
      " [           16777216            33554432            67108864\n",
      "            134217728           268435456           536870912\n",
      "           1073741824          2147483648]\n",
      " [         4294967296          8589934592         17179869184\n",
      "          34359738368         68719476736        137438953472\n",
      "         274877906944        549755813888]\n",
      " [      1099511627776       2199023255552       4398046511104\n",
      "        8796093022208      17592186044416      35184372088832\n",
      "       70368744177664     140737488355328]\n",
      " [    281474976710656     562949953421312    1125899906842624\n",
      "     2251799813685248    4503599627370496    9007199254740992\n",
      "    18014398509481984   36028797018963968]\n",
      " [  72057594037927936  144115188075855872  288230376151711744\n",
      "   576460752303423488 1152921504606846976 2305843009213693952\n",
      "  4611686018427387904 9223372036854775808]]\n"
     ]
    }
   ],
   "source": [
    "#%%timeit\n",
    "#timing the function that uses broadcasting method\n",
    "def array_of_grains_in_each_square(n , m):\n",
    "    n_squares = (n*m)\n",
    "    indices_of_squares = np.arange(n_squares).astype(np.uint64)\n",
    "    chessboard_ndarray = 2**indices_of_squares\n",
    "    print('The number of grains in a',n,'x',m,'chessboard is:\\n {}'.format(chessboard_ndarray.reshape(n,m)))\n",
    "array_of_grains_in_each_square(8, 8)"
   ]
  },
  {
   "cell_type": "markdown",
   "id": "5db50a21",
   "metadata": {},
   "source": [
    "The function that uses broadcasting method used 259 micro seconds."
   ]
  },
  {
   "cell_type": "markdown",
   "id": "6c65c64b",
   "metadata": {},
   "source": [
    "Its clear that the broadcasting method is much faster."
   ]
  },
  {
   "cell_type": "code",
   "execution_count": null,
   "id": "3aaac1ac",
   "metadata": {},
   "outputs": [],
   "source": []
  }
 ],
 "metadata": {
  "kernelspec": {
   "display_name": "Python 3 (ipykernel)",
   "language": "python",
   "name": "python3"
  },
  "language_info": {
   "codemirror_mode": {
    "name": "ipython",
    "version": 3
   },
   "file_extension": ".py",
   "mimetype": "text/x-python",
   "name": "python",
   "nbconvert_exporter": "python",
   "pygments_lexer": "ipython3",
   "version": "3.8.10"
  }
 },
 "nbformat": 4,
 "nbformat_minor": 5
}
